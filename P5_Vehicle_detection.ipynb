{
 "cells": [
  {
   "cell_type": "code",
   "execution_count": 91,
   "metadata": {},
   "outputs": [],
   "source": [
    "# Import\n",
    "import matplotlib.image as mpimg\n",
    "import matplotlib.pyplot as plt\n",
    "import numpy as np\n",
    "import cv2\n",
    "import glob\n",
    "from skimage.feature import hog\n",
    "from sklearn.preprocessing import StandardScaler\n",
    "from sklearn.cross_validation import train_test_split\n",
    "from sklearn.svm import LinearSVC\n",
    "import time"
   ]
  },
  {
   "cell_type": "code",
   "execution_count": 80,
   "metadata": {},
   "outputs": [],
   "source": [
    "def plot_2(img1,img2):\n",
    "    f, (ax1, ax2) = plt.subplots(1, 2, figsize=(10, 9))\n",
    "    f.tight_layout()\n",
    "    ax1.imshow(img1)\n",
    "    ax2.imshow(img2)\n",
    "    plt.subplots_adjust(left=0., right=1, top=0.9, bottom=0.)"
   ]
  },
  {
   "cell_type": "markdown",
   "metadata": {},
   "source": [
    "## Load Images"
   ]
  },
  {
   "cell_type": "code",
   "execution_count": 81,
   "metadata": {},
   "outputs": [
    {
     "name": "stdout",
     "output_type": "stream",
     "text": [
      "cars  8792\n",
      "non_cars  8968\n",
      "MAx  192\n",
      "MIN 33\n"
     ]
    }
   ],
   "source": [
    "cars = []\n",
    "notcars = []\n",
    "images = glob.glob('vehicles/vehicles/*/*.png')\n",
    "for image in images:\n",
    "    cars.append(image)\n",
    "    \n",
    "images = glob.glob('non-vehicles/non-vehicles/*/*.png')\n",
    "for image in images:\n",
    "    notcars.append(image)\n",
    "\n",
    "    \n",
    "#images2 = glob.glob('vehicles/vehicles/KITTI_*/*.png')\n",
    "#cars.append(images)\n",
    "print(\"cars \",len(cars))\n",
    "print(\"non_cars \", len(notcars))\n",
    "image = np.uint8(cv2.imread(cars[0]))\n",
    "print(\"MAx \",np.max(image))\n",
    "print(\"MIN\",np.min(image))\n",
    "image2 = cv2.cvtColor(image, cv2.COLOR_BGR2RGB)\n",
    "\n",
    "#plot_2(image, image2)\n"
   ]
  },
  {
   "cell_type": "markdown",
   "metadata": {},
   "source": [
    "## Feature Extraction"
   ]
  },
  {
   "cell_type": "code",
   "execution_count": 82,
   "metadata": {},
   "outputs": [],
   "source": [
    "# Define a function to compute binned color features  \n",
    "def bin_spatial(img, size=(32, 32)):\n",
    "    # Use cv2.resize().ravel() to create the feature vector\n",
    "    features = cv2.resize(img, size).ravel() \n",
    "    # Return the feature vector\n",
    "    return features\n",
    "\n",
    "# Define a function to compute color histogram features  \n",
    "def color_hist(img, nbins=32, bins_range=(0, 256)):\n",
    "    # Compute the histogram of the color channels separately\n",
    "    channel1_hist = np.histogram(img[:,:,0], bins=nbins, range=bins_range)\n",
    "    channel2_hist = np.histogram(img[:,:,1], bins=nbins, range=bins_range)\n",
    "    channel3_hist = np.histogram(img[:,:,2], bins=nbins, range=bins_range)\n",
    "    # Concatenate the histograms into a single feature vector\n",
    "    hist_features = np.concatenate((channel1_hist[0], channel2_hist[0], channel3_hist[0]))\n",
    "    # Return the individual histograms, bin_centers and feature vector\n",
    "    return hist_features\n",
    "\n",
    "# Define a function to return HOG features and visualization\n",
    "# Features will always be the first element of the return\n",
    "# Image data will be returned as the second element if visualize= True\n",
    "# Otherwise there is no second return element\n",
    "\n",
    "def get_hog_features(img, orient, pix_per_cell, cell_per_block, vis=True, \n",
    "                     feature_vec=True):\n",
    "                         \n",
    "    # TODO: Complete the function body and returns\n",
    "    \n",
    "    #pass\n",
    "    feature_vector = hog(img, orientations=orient,\n",
    "                          pixels_per_cell=(pix_per_cell, pix_per_cell), \n",
    "                          cells_per_block=(cell_per_block, cell_per_block), \n",
    "                          visualise=vis, feature_vector=feature_vec,\n",
    "                          block_norm=\"L2-Hys\")\n",
    "    return hog_features\n",
    "\n",
    "def hog_features(feature_image,orient,pix_per_cell,cell_per_block,vis=True,feature_vec=True,hog_channel):\n",
    "    # Call get_hog_features() with vis=False, feature_vec=True\n",
    "    if hog_channel == 'ALL':\n",
    "        hog_features = []\n",
    "        for channel in range(feature_image.shape[2]):\n",
    "            hog_features.append(get_hog_features(feature_image[:,:,channel], \n",
    "                                orient, pix_per_cell, cell_per_block, \n",
    "                                vis=False, feature_vec=True))\n",
    "        hog_features = np.ravel(hog_features)        \n",
    "    else:\n",
    "        hog_features = get_hog_features(feature_image[:,:,hog_channel], orient, \n",
    "                    pix_per_cell, cell_per_block, vis=False, feature_vec=True)\n",
    "        \n",
    "    return hog_features"
   ]
  },
  {
   "cell_type": "code",
   "execution_count": 96,
   "metadata": {},
   "outputs": [],
   "source": [
    "# Define a function to extract features from a list of images\n",
    "# Have this function call bin_spatial() and color_hist()\n",
    "def extract_features(imgs, cspace='RGB', spatial_size=(32, 32),\n",
    "                        hist_bins=32, hist_range=(0, 256), hog_channel = 'ALL'):\n",
    "    # Create a list to append feature vectors to\n",
    "    features = []\n",
    "    # Iterate through the list of images\n",
    "        # Read in each one by one\n",
    "        # apply color conversion if other than 'RGB'\n",
    "        # Apply bin_spatial() to get spatial color features\n",
    "        # Apply color_hist() to get color histogram features\n",
    "        # Append the new feature vector to the features list\n",
    "    # Return list of feature vectors\n",
    "    orient =\n",
    "    pix_per_cell=\n",
    "    cell_per_block=\n",
    "    \n",
    "    for img in imgs:\n",
    "        image = cv2.imread(img)\n",
    "        if cspace == 'BGR':\n",
    "            feature_image = cv2.cvtColor(image, cv2.COLOR_BGR2RGB)\n",
    "        elif cspace == 'HLS':\n",
    "            feature_image = cv2.cvtColor(image, cv2.COLOR_HLS2RGB)\n",
    "        elif cspace == 'HSV':\n",
    "            feature_image = cv2.cvtColor(image, cv2.COLOR_HSV2RGB)\n",
    "        elif cspace == 'YUV':\n",
    "            feature_image = cv2.cvtColor(image, cv2.COLOR_YUV2RGB)\n",
    "        else:\n",
    "            feature_image = np.copy(image)\n",
    "        \n",
    "        spatial_feature = bin_spatial(feature_image, size = spatial_size)\n",
    "        color_feature = color_hist(feature_image, nbins = hist_bins, bins_range = hist_range)\n",
    "        hog_features = \n",
    "        \n",
    "       \n",
    "        \n",
    "        features.append(np.concatenate((spatial_feature,color_feature,hog_features)))\n",
    "    return features"
   ]
  },
  {
   "cell_type": "code",
   "execution_count": 97,
   "metadata": {},
   "outputs": [
    {
     "ename": "NameError",
     "evalue": "name 'orient' is not defined",
     "output_type": "error",
     "traceback": [
      "\u001b[1;31m---------------------------------------------------------------------------\u001b[0m",
      "\u001b[1;31mNameError\u001b[0m                                 Traceback (most recent call last)",
      "\u001b[1;32m<ipython-input-97-f039439ce99d>\u001b[0m in \u001b[0;36m<module>\u001b[1;34m()\u001b[0m\n\u001b[0;32m      1\u001b[0m car_features = extract_features(cars, cspace='BGR', spatial_size=(16, 16),\n\u001b[1;32m----> 2\u001b[1;33m                         hist_bins=32, hist_range=(0, 256),hog_channel = 'ALL')\n\u001b[0m\u001b[0;32m      3\u001b[0m notcar_features = extract_features(notcars, cspace='BGR', spatial_size=(16, 16),\n\u001b[0;32m      4\u001b[0m                         hist_bins=32, hist_range=(0, 256),hog_channel = 'ALL')\n\u001b[0;32m      5\u001b[0m \u001b[1;33m\u001b[0m\u001b[0m\n",
      "\u001b[1;32m<ipython-input-96-acefb34d214d>\u001b[0m in \u001b[0;36mextract_features\u001b[1;34m(imgs, cspace, spatial_size, hist_bins, hist_range, hog_channel)\u001b[0m\n\u001b[0;32m     33\u001b[0m             \u001b[1;32mfor\u001b[0m \u001b[0mchannel\u001b[0m \u001b[1;32min\u001b[0m \u001b[0mrange\u001b[0m\u001b[1;33m(\u001b[0m\u001b[0mfeature_image\u001b[0m\u001b[1;33m.\u001b[0m\u001b[0mshape\u001b[0m\u001b[1;33m[\u001b[0m\u001b[1;36m2\u001b[0m\u001b[1;33m]\u001b[0m\u001b[1;33m)\u001b[0m\u001b[1;33m:\u001b[0m\u001b[1;33m\u001b[0m\u001b[0m\n\u001b[0;32m     34\u001b[0m                 hog_features.append(get_hog_features(feature_image[:,:,channel], \n\u001b[1;32m---> 35\u001b[1;33m                                     \u001b[0morient\u001b[0m\u001b[1;33m,\u001b[0m \u001b[0mpix_per_cell\u001b[0m\u001b[1;33m,\u001b[0m \u001b[0mcell_per_block\u001b[0m\u001b[1;33m,\u001b[0m\u001b[1;33m\u001b[0m\u001b[0m\n\u001b[0m\u001b[0;32m     36\u001b[0m                                     vis=False, feature_vec=True))\n\u001b[0;32m     37\u001b[0m             \u001b[0mhog_features\u001b[0m \u001b[1;33m=\u001b[0m \u001b[0mnp\u001b[0m\u001b[1;33m.\u001b[0m\u001b[0mravel\u001b[0m\u001b[1;33m(\u001b[0m\u001b[0mhog_features\u001b[0m\u001b[1;33m)\u001b[0m\u001b[1;33m\u001b[0m\u001b[0m\n",
      "\u001b[1;31mNameError\u001b[0m: name 'orient' is not defined"
     ]
    }
   ],
   "source": [
    "car_features = extract_features(cars, cspace='BGR', spatial_size=(16, 16),\n",
    "                        hist_bins=32, hist_range=(0, 256),hog_channel = 'ALL')\n",
    "notcar_features = extract_features(notcars, cspace='BGR', spatial_size=(16, 16),\n",
    "                        hist_bins=32, hist_range=(0, 256),hog_channel = 'ALL')\n",
    "\n",
    "if len(car_features) > 0:\n",
    "    # Create an array stack of feature vectors\n",
    "    X = np.vstack((car_features, notcar_features)).astype(np.float64)                        \n",
    "    # Fit a per-column scaler\n",
    "    X_scaler = StandardScaler().fit(X)\n",
    "    # Apply the scaler to X\n",
    "    scaled_X = X_scaler.transform(X)\n",
    "    car_ind = np.random.randint(0, len(cars))\n",
    "    # Plot an example of raw and scaled features\n",
    "    fig = plt.figure(figsize=(12,4))\n",
    "    plt.subplot(131)\n",
    "    plt.imshow(mpimg.imread(cars[car_ind]))\n",
    "    plt.title('Original Image')\n",
    "    plt.subplot(132)\n",
    "    plt.plot(X[car_ind])\n",
    "    plt.title('Raw Features')\n",
    "    plt.subplot(133)\n",
    "    plt.plot(scaled_X[car_ind])\n",
    "    plt.title('Normalized Features')\n",
    "    fig.tight_layout()\n",
    "else: \n",
    "    print('Your function only returns empty feature vectors...')"
   ]
  },
  {
   "cell_type": "markdown",
   "metadata": {},
   "source": [
    "## Split into Training and validation"
   ]
  },
  {
   "cell_type": "code",
   "execution_count": 93,
   "metadata": {},
   "outputs": [
    {
     "name": "stdout",
     "output_type": "stream",
     "text": [
      "Feature vector length: 864\n"
     ]
    }
   ],
   "source": [
    "# Create an array stack of feature vectors\n",
    "X = np.vstack((car_features, notcar_features)).astype(np.float64)\n",
    "\n",
    "# Define the labels vector\n",
    "y = np.hstack((np.ones(len(car_features)), np.zeros(len(notcar_features))))\n",
    "\n",
    "# Split up data into randomized training and test sets\n",
    "rand_state = np.random.randint(0, 100)\n",
    "X_train, X_test, y_train, y_test = train_test_split(\n",
    "    X, y, test_size=0.2, random_state=rand_state)\n",
    "    \n",
    "# Fit a per-column scaler only on the training data\n",
    "X_scaler = StandardScaler().fit(X_train)\n",
    "# Apply the scaler to X_train and X_test\n",
    "X_train = X_scaler.transform(X_train)\n",
    "X_test = X_scaler.transform(X_test)\n",
    "\n",
    "#print('Using spatial binning of:',spatial,'and', histbin,'histogram bins')\n",
    "print('Feature vector length:', len(X_train[0]))\n"
   ]
  },
  {
   "cell_type": "markdown",
   "metadata": {},
   "source": [
    "## Linear SVM"
   ]
  },
  {
   "cell_type": "code",
   "execution_count": 94,
   "metadata": {},
   "outputs": [
    {
     "name": "stdout",
     "output_type": "stream",
     "text": [
      "9.3 Seconds to train SVC...\n",
      "Test Accuracy of SVC =  0.9617\n",
      "My SVC predicts:  [1. 0. 0. 0. 0. 0. 1. 0. 1. 1.]\n",
      "For these 10 labels:  [1. 0. 0. 0. 0. 0. 1. 0. 1. 1.]\n",
      "0.0 Seconds to predict 10 labels with SVC\n"
     ]
    }
   ],
   "source": [
    "# Use a linear SVC \n",
    "svc = LinearSVC()\n",
    "# Check the training time for the SVC\n",
    "t=time.time()\n",
    "svc.fit(X_train, y_train)\n",
    "t2 = time.time()\n",
    "print(round(t2-t, 2), 'Seconds to train SVC...')\n",
    "# Check the score of the SVC\n",
    "print('Test Accuracy of SVC = ', round(svc.score(X_test, y_test), 4))\n",
    "# Check the prediction time for a single sample\n",
    "t=time.time()\n",
    "n_predict = 10\n",
    "print('My SVC predicts: ', svc.predict(X_test[0:n_predict]))\n",
    "print('For these',n_predict, 'labels: ', y_test[0:n_predict])\n",
    "t2 = time.time()\n",
    "print(round(t2-t, 5), 'Seconds to predict', n_predict,'labels with SVC')"
   ]
  },
  {
   "cell_type": "code",
   "execution_count": 95,
   "metadata": {},
   "outputs": [
    {
     "name": "stdout",
     "output_type": "stream",
     "text": [
      "14208\n"
     ]
    }
   ],
   "source": [
    "print(len(X_train))"
   ]
  },
  {
   "cell_type": "markdown",
   "metadata": {},
   "source": [
    "## Sliding Window"
   ]
  },
  {
   "cell_type": "code",
   "execution_count": null,
   "metadata": {},
   "outputs": [],
   "source": []
  },
  {
   "cell_type": "markdown",
   "metadata": {},
   "source": [
    "## PIPELINE"
   ]
  },
  {
   "cell_type": "code",
   "execution_count": null,
   "metadata": {},
   "outputs": [],
   "source": [
    "def pipeline(image):\n",
    "    "
   ]
  }
 ],
 "metadata": {
  "kernelspec": {
   "display_name": "Python [conda env:carnd-term1]",
   "language": "python",
   "name": "conda-env-carnd-term1-py"
  },
  "language_info": {
   "codemirror_mode": {
    "name": "ipython",
    "version": 3
   },
   "file_extension": ".py",
   "mimetype": "text/x-python",
   "name": "python",
   "nbconvert_exporter": "python",
   "pygments_lexer": "ipython3",
   "version": "3.5.2"
  },
  "widgets": {
   "state": {},
   "version": "1.1.2"
  }
 },
 "nbformat": 4,
 "nbformat_minor": 2
}
